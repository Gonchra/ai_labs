{
 "cells": [
  {
   "cell_type": "code",
   "execution_count": 39,
   "id": "208ed3e0-5254-455e-952a-0c18a3790f8b",
   "metadata": {},
   "outputs": [
    {
     "name": "stdout",
     "output_type": "stream",
     "text": [
      "  PassengerId  CryoSleep  Cabin       Age    VIP  RoomService  FoodCourt  \\\n",
      "0     0013_01       True  G/3/S  0.341772  False     0.000000   0.000000   \n",
      "1     0018_01      False  F/4/S  0.240506  False     0.000000   0.000356   \n",
      "2     0019_01       True  C/0/S  0.392405  False     0.000000   0.000000   \n",
      "3     0021_01      False  C/1/S  0.481013  False     0.000000   0.263206   \n",
      "4     0023_01      False  F/5/S  0.253165  False     0.000865   0.000000   \n",
      "5     0027_01      False  F/7/P  0.392405  False     0.000000   0.063902   \n",
      "6     0029_01       True  B/2/P  0.265823  False     0.000000   0.000000   \n",
      "7     0032_01       True  D/0/S  0.253165  False     0.000000   0.000000   \n",
      "8     0032_02       True  D/0/S  0.291139  False     0.000000   0.000000   \n",
      "9     0033_01      False  F/7/S  0.303797  False     0.000000   0.025284   \n",
      "\n",
      "   ShoppingMall       Spa    VRDeck               Name  \\\n",
      "0      0.000000  0.000000  0.000000    Nelly Carsoning   \n",
      "1      0.000000  0.142260  0.000000     Lerome Peckers   \n",
      "2      0.000000  0.000000  0.000000    Sabih Unhearfus   \n",
      "3      0.000000  0.009121  0.026266   Meratz Caltilter   \n",
      "4      0.076580  0.000000  0.000000    Brence Harperez   \n",
      "5      0.031717  0.005694  0.002694       Karlen Ricks   \n",
      "6      0.000000  0.000000  0.000000    Aldah Ainserfle   \n",
      "7      0.000000  0.000000  0.000000     Acrabi Pringry   \n",
      "8      0.000000  0.000000  0.000000      Dhena Pringry   \n",
      "9      0.000000  0.000000  0.000000  Eliana Delazarson   \n",
      "\n",
      "   Destination_55 Cancri e  Destination_PSO J318.5-22  \\\n",
      "0                    False                      False   \n",
      "1                    False                      False   \n",
      "2                     True                      False   \n",
      "3                    False                      False   \n",
      "4                    False                      False   \n",
      "5                    False                      False   \n",
      "6                     True                      False   \n",
      "7                    False                      False   \n",
      "8                     True                      False   \n",
      "9                     True                      False   \n",
      "\n",
      "   Destination_TRAPPIST-1e  HomePlanet_Earth  HomePlanet_Europa  \\\n",
      "0                     True              True              False   \n",
      "1                     True              True              False   \n",
      "2                    False             False               True   \n",
      "3                     True             False               True   \n",
      "4                     True              True              False   \n",
      "5                     True              True              False   \n",
      "6                    False             False               True   \n",
      "7                     True             False               True   \n",
      "8                    False             False               True   \n",
      "9                    False              True              False   \n",
      "\n",
      "   HomePlanet_Mars  \n",
      "0            False  \n",
      "1            False  \n",
      "2            False  \n",
      "3            False  \n",
      "4            False  \n",
      "5            False  \n",
      "6            False  \n",
      "7            False  \n",
      "8            False  \n",
      "9            False  \n",
      "Среднеквадратичная ошибка (MSE): 0.0282\n",
      "Корень среднеквадратичной ошибки (RMSE): 0.1678\n",
      "Средняя абсолютная ошибка (MAE): 0.1304\n",
      "Accuracy score: 0.8282\n"
     ]
    }
   ],
   "source": [
    "%run Lab2.py"
   ]
  },
  {
   "cell_type": "code",
   "execution_count": null,
   "id": "9cd9299a-e018-46b1-922e-6576b3e3a4ee",
   "metadata": {},
   "outputs": [],
   "source": []
  },
  {
   "cell_type": "code",
   "execution_count": null,
   "id": "e3bbea9d-2747-48b4-bff5-adfec96c6f2c",
   "metadata": {},
   "outputs": [],
   "source": []
  }
 ],
 "metadata": {
  "kernelspec": {
   "display_name": "Python 3 (ipykernel)",
   "language": "python",
   "name": "python3"
  },
  "language_info": {
   "codemirror_mode": {
    "name": "ipython",
    "version": 3
   },
   "file_extension": ".py",
   "mimetype": "text/x-python",
   "name": "python",
   "nbconvert_exporter": "python",
   "pygments_lexer": "ipython3",
   "version": "3.13.1"
  }
 },
 "nbformat": 4,
 "nbformat_minor": 5
}
