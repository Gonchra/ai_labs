{
 "cells": [
  {
   "cell_type": "code",
   "execution_count": 18,
   "id": "5129706f-67b2-4bbc-bae6-297da01e3205",
   "metadata": {},
   "outputs": [
    {
     "name": "stdout",
     "output_type": "stream",
     "text": [
      "  PassengerId HomePlanet CryoSleep  Cabin  Destination   Age    VIP  \\\n",
      "0     0013_01      Earth      True  G/3/S  TRAPPIST-1e  27.0  False   \n",
      "1     0018_01      Earth     False  F/4/S  TRAPPIST-1e  19.0  False   \n",
      "2     0019_01     Europa      True  C/0/S  55 Cancri e  31.0  False   \n",
      "3     0021_01     Europa     False  C/1/S  TRAPPIST-1e  38.0  False   \n",
      "4     0023_01      Earth     False  F/5/S  TRAPPIST-1e  20.0  False   \n",
      "5     0027_01      Earth     False  F/7/P  TRAPPIST-1e  31.0  False   \n",
      "6     0029_01     Europa      True  B/2/P  55 Cancri e  21.0  False   \n",
      "7     0032_01     Europa      True  D/0/S  TRAPPIST-1e  20.0  False   \n",
      "8     0032_02     Europa      True  D/0/S  55 Cancri e  23.0  False   \n",
      "9     0033_01      Earth     False  F/7/S  55 Cancri e  24.0  False   \n",
      "\n",
      "   RoomService  FoodCourt  ShoppingMall     Spa  VRDeck               Name  \n",
      "0          0.0        0.0           0.0     0.0     0.0    Nelly Carsoning  \n",
      "1          0.0        9.0           0.0  2823.0     0.0     Lerome Peckers  \n",
      "2          0.0        0.0           0.0     0.0     0.0    Sabih Unhearfus  \n",
      "3          0.0     6652.0           0.0   181.0   585.0   Meratz Caltilter  \n",
      "4         10.0        0.0         635.0     0.0     0.0    Brence Harperez  \n",
      "5          0.0     1615.0         263.0   113.0    60.0       Karlen Ricks  \n",
      "6          0.0        NaN           0.0     0.0     0.0    Aldah Ainserfle  \n",
      "7          0.0        0.0           0.0     0.0     0.0     Acrabi Pringry  \n",
      "8          0.0        0.0           0.0     0.0     0.0      Dhena Pringry  \n",
      "9          0.0      639.0           0.0     0.0     0.0  Eliana Delazarson  \n",
      "PassengerId       0\n",
      "HomePlanet       87\n",
      "CryoSleep        93\n",
      "Cabin           100\n",
      "Destination      92\n",
      "Age              91\n",
      "VIP              93\n",
      "RoomService      82\n",
      "FoodCourt       106\n",
      "ShoppingMall     98\n",
      "Spa             101\n",
      "VRDeck           80\n",
      "Name             94\n",
      "dtype: int64\n",
      "PassengerId       0\n",
      "HomePlanet       87\n",
      "CryoSleep        93\n",
      "Cabin             0\n",
      "Destination      92\n",
      "Age               0\n",
      "VIP              93\n",
      "RoomService      82\n",
      "FoodCourt       106\n",
      "ShoppingMall     98\n",
      "Spa             101\n",
      "VRDeck           80\n",
      "Name             94\n",
      "dtype: int64\n"
     ]
    }
   ],
   "source": [
    "%run main.py"
   ]
  },
  {
   "cell_type": "code",
   "execution_count": null,
   "id": "c779c979-c53f-45fa-a0fc-d723a1b33e71",
   "metadata": {},
   "outputs": [],
   "source": []
  },
  {
   "cell_type": "code",
   "execution_count": null,
   "id": "6de1e997-c791-45de-beb2-8d16a9002073",
   "metadata": {},
   "outputs": [],
   "source": []
  }
 ],
 "metadata": {
  "kernelspec": {
   "display_name": "Python 3 (ipykernel)",
   "language": "python",
   "name": "python3"
  },
  "language_info": {
   "codemirror_mode": {
    "name": "ipython",
    "version": 3
   },
   "file_extension": ".py",
   "mimetype": "text/x-python",
   "name": "python",
   "nbconvert_exporter": "python",
   "pygments_lexer": "ipython3",
   "version": "3.13.1"
  }
 },
 "nbformat": 4,
 "nbformat_minor": 5
}
